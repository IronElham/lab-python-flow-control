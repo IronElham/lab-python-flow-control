{
 "cells": [
  {
   "cell_type": "markdown",
   "id": "d3bfc191-8885-42ee-b0a0-bbab867c6f9f",
   "metadata": {
    "tags": []
   },
   "source": [
    "# Lab | Flow Control"
   ]
  },
  {
   "cell_type": "markdown",
   "id": "3851fcd1-cf98-4653-9c89-e003b7ec9400",
   "metadata": {},
   "source": [
    "## Exercise: Managing Customer Orders Optimized\n",
    "\n",
    "In the last lab, you were starting an online store that sells various products. To ensure smooth operations, you developed a program that manages customer orders and inventory.\n",
    "\n",
    "You did so without using flow control. Let's go a step further and improve this code.\n",
    "\n",
    "Follow the steps below to complete the exercise:\n",
    "\n",
    "1. Look at your code from the lab data structures, and improve repeated code with loops.\n",
    "\n",
    "2. Instead of asking the user to input the name of three products that a customer wants to order, do the following:\n",
    "    \n",
    "    a. Prompt the user to enter the name of a product that a customer wants to order.\n",
    "    \n",
    "    b. Add the product name to the \"customer_orders\" set.\n",
    "    \n",
    "    c. Ask the user if they want to add another product (yes/no).\n",
    "    \n",
    "    d. Continue the loop until the user does not want to add another product.\n",
    "\n",
    "3. Instead of updating the inventory by subtracting 1 from the quantity of each product, only do it for  the products that were ordered (those in \"customer_orders\")."
   ]
  },
  {
   "cell_type": "code",
   "execution_count": 1,
   "id": "871d6050-de6e-4636-a897-75fe0a516971",
   "metadata": {},
   "outputs": [
    {
     "name": "stdin",
     "output_type": "stream",
     "text": [
      "enter quantities for t-shirt  9\n",
      "enter quantities for mug  9\n",
      "enter quantities for hat  8\n",
      "enter quantities for book  8\n",
      "enter quantities for keychain  7\n"
     ]
    },
    {
     "name": "stdout",
     "output_type": "stream",
     "text": [
      "\n",
      "Inventory:  {'t-shirt': 9, 'mug': 9, 'hat': 8, 'book': 8, 'keychain': 7}\n"
     ]
    }
   ],
   "source": [
    "# 1. Define the list of products\n",
    "products = [\"t-shirt\", \"mug\", \"hat\", \"book\", \"keychain\"]\n",
    "\n",
    "# Create an empty dictionary called inventory\n",
    "inventory = {}\n",
    "\n",
    "# Ask the user to input the quantity of each product available in the inventory.\n",
    "for product in products:\n",
    "    user_count= int(input(f\"enter quantities for {product} \"))\n",
    "    inventory.update({product:user_count})\n",
    "\n",
    "print(\"\\nInventory: \",inventory) "
   ]
  },
  {
   "cell_type": "code",
   "execution_count": 3,
   "id": "724a253c-0466-4e13-b975-c5196dea414d",
   "metadata": {},
   "outputs": [],
   "source": [
    "# Create an empty set called customer_orders\n",
    "customer_orders = set()"
   ]
  },
  {
   "cell_type": "markdown",
   "id": "924eba3a-5a6f-408f-af0e-9f910885af51",
   "metadata": {},
   "source": [
    "2.Instead of asking the user to input the name of three products that a customer wants to order, do the following:\n",
    "\n",
    "a. Prompt the user to enter the name of a product that a customer wants to order.\n",
    "\n",
    "b. Add the product name to the \"customer_orders\" set.\n",
    "\n",
    "c. Ask the user if they want to add another product (yes/no).\n",
    "\n",
    "d. Continue the loop until the user does not want to add another product."
   ]
  },
  {
   "cell_type": "code",
   "execution_count": 5,
   "id": "9d348a7a-a396-4edd-ba68-c9765cf27411",
   "metadata": {},
   "outputs": [
    {
     "name": "stdin",
     "output_type": "stream",
     "text": [
      "\n",
      "Enter the name of a product:  hat\n",
      "Do you want to add another product? (yes/no):  yes\n",
      "\n",
      "Enter the name of a product:  mug\n",
      "Do you want to add another product? (yes/no):  yes\n",
      "\n",
      "Enter the name of a product:  book\n",
      "Do you want to add another product? (yes/no):  no\n"
     ]
    },
    {
     "name": "stdout",
     "output_type": "stream",
     "text": [
      "\n",
      "Customer Orders:  {'hat', 'book', 'mug'}\n"
     ]
    }
   ],
   "source": [
    "while True:\n",
    "    customer_choice = input(\"\\nEnter the name of a product: \")\n",
    "    if customer_choice in products:\n",
    "        customer_orders.add(customer_choice)\n",
    "        additional_product = input(\"Do you want to add another product? (yes/no): \")\n",
    "        if additional_product == \"no\":\n",
    "            break\n",
    "    else:\n",
    "        print(\"Please enter a valid product name from the list.\")\n",
    "\n",
    "\n",
    "print(\"\\nCustomer Orders: \", customer_orders)"
   ]
  },
  {
   "cell_type": "code",
   "execution_count": 7,
   "id": "722af4de-be10-4c06-b023-0a493cf19be0",
   "metadata": {},
   "outputs": [
    {
     "name": "stdout",
     "output_type": "stream",
     "text": [
      "\n",
      "Inventory:  {'t-shirt': 9, 'mug': 8, 'hat': 7, 'book': 7, 'keychain': 7}\n"
     ]
    }
   ],
   "source": [
    "#3. Instead of updating the inventory by subtracting 1 from the quantity of each product, only do it for the products that were ordered (those in \"customer_orders\").\n",
    "for product in customer_orders:\n",
    "    if inventory[product] > 0:\n",
    "        inventory[product] -= 1\n",
    "    else:\n",
    "        print(f\"{product} is not available anymore\")\n",
    "\n",
    "print(\"\\nInventory: \", inventory)"
   ]
  }
 ],
 "metadata": {
  "kernelspec": {
   "display_name": "Python 3 (ipykernel)",
   "language": "python",
   "name": "python3"
  },
  "language_info": {
   "codemirror_mode": {
    "name": "ipython",
    "version": 3
   },
   "file_extension": ".py",
   "mimetype": "text/x-python",
   "name": "python",
   "nbconvert_exporter": "python",
   "pygments_lexer": "ipython3",
   "version": "3.12.4"
  }
 },
 "nbformat": 4,
 "nbformat_minor": 5
}
